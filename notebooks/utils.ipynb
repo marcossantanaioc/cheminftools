{
 "cells": [
  {
   "cell_type": "code",
   "execution_count": null,
   "id": "9189745c",
   "metadata": {},
   "outputs": [],
   "source": [
    "#|default_exp utils"
   ]
  },
  {
   "cell_type": "code",
   "execution_count": null,
   "id": "dc2b4a94-ad44-476e-864c-80b53b8b5ad2",
   "metadata": {},
   "outputs": [],
   "source": [
    "%load_ext autoreload\n",
    "%autoreload 2"
   ]
  },
  {
   "cell_type": "code",
   "execution_count": null,
   "id": "d582de54",
   "metadata": {},
   "outputs": [],
   "source": [
    "#|export\n",
    "import numpy as np\n",
    "from rdkit import Chem\n",
    "from rdkit.Chem import rdchem"
   ]
  },
  {
   "cell_type": "code",
   "execution_count": null,
   "id": "67860d2d-515b-4882-a110-f041374932dd",
   "metadata": {},
   "outputs": [],
   "source": [
    "#|hide\n",
    "from nbdev.showdoc import show_doc"
   ]
  },
  {
   "cell_type": "markdown",
   "id": "8afcc43f-d1d6-4304-a130-d53f6d2a7db2",
   "metadata": {},
   "source": [
    "# Utils"
   ]
  },
  {
   "cell_type": "code",
   "execution_count": null,
   "id": "b04b7b4e",
   "metadata": {},
   "outputs": [],
   "source": [
    "#|export\n",
    "def convert_smiles(mol, sanitize=False):\n",
    "    if isinstance(mol, str):\n",
    "        try:\n",
    "            mol = Chem.MolFromSmiles(mol, sanitize=sanitize)\n",
    "            return mol\n",
    "        except:\n",
    "            return None\n",
    "    elif isinstance(mol, rdchem.Mol):\n",
    "        return mol"
   ]
  },
  {
   "cell_type": "code",
   "execution_count": null,
   "id": "0c25254e-2367-4c77-9cf6-ed5468e91d39",
   "metadata": {},
   "outputs": [],
   "source": [
    "#| hide\n",
    "from nbdev import nbdev_export\n",
    "nbdev_export()"
   ]
  },
  {
   "cell_type": "code",
   "execution_count": null,
   "id": "74da6c8d-cb54-426a-a4f1-40c1ed2cb666",
   "metadata": {},
   "outputs": [],
   "source": []
  }
 ],
 "metadata": {
  "kernelspec": {
   "display_name": "cheminformatics",
   "language": "python",
   "name": "cheminformatics"
  },
  "language_info": {
   "codemirror_mode": {
    "name": "ipython",
    "version": 3
   },
   "file_extension": ".py",
   "mimetype": "text/x-python",
   "name": "python",
   "nbconvert_exporter": "python",
   "pygments_lexer": "ipython3",
   "version": "3.9.12"
  }
 },
 "nbformat": 4,
 "nbformat_minor": 5
}
