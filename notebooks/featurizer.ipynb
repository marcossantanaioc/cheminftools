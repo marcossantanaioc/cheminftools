{
 "cells": [
  {
   "cell_type": "markdown",
   "id": "65e57e9e-0185-4e80-84c4-eeb87241b614",
   "metadata": {},
   "source": [
    "# Featurizer"
   ]
  },
  {
   "cell_type": "code",
   "execution_count": 1,
   "id": "9189745c",
   "metadata": {},
   "outputs": [],
   "source": [
    "#|default_exp tools.featurizer"
   ]
  },
  {
   "cell_type": "code",
   "execution_count": 2,
   "id": "dc2b4a94-ad44-476e-864c-80b53b8b5ad2",
   "metadata": {},
   "outputs": [],
   "source": [
    "#|echo: false\n",
    "%load_ext autoreload\n",
    "%autoreload 2"
   ]
  },
  {
   "cell_type": "code",
   "execution_count": 3,
   "id": "d582de54",
   "metadata": {},
   "outputs": [],
   "source": [
    "#|export\n",
    "import pandas as pd\n",
    "import numpy as np\n",
    "from rdkit import Chem\n",
    "from chemtools.utils import convert_smiles\n",
    "from rdkit.Chem import MACCSkeys,AllChem,rdMolDescriptors, rdFingerprintGenerator, Descriptors\n",
    "from rdkit.DataStructs.cDataStructs import ConvertToNumpyArray\n",
    "from functools import partial\n",
    "from typing import List, Collection\n",
    "import multiprocessing as mp\n",
    "from fastprogress.fastprogress import master_bar, progress_bar\n",
    "from time import sleep"
   ]
  },
  {
   "cell_type": "code",
   "execution_count": 4,
   "id": "67860d2d-515b-4882-a110-f041374932dd",
   "metadata": {},
   "outputs": [],
   "source": [
    "#|hide\n",
    "from nbdev.showdoc import show_doc\n",
    "from nbdev import nbdev_export"
   ]
  },
  {
   "cell_type": "markdown",
   "id": "1aeed92d-af7a-4098-9297-c885cdae0ee6",
   "metadata": {},
   "source": [
    "## Utilities"
   ]
  },
  {
   "cell_type": "markdown",
   "id": "37973665-c6a6-427a-8d04-4c920fee5293",
   "metadata": {},
   "source": [
    "# MolFeaturizer"
   ]
  },
  {
   "cell_type": "code",
   "execution_count": 13,
   "id": "f7f0225f-6a24-4ee9-a441-47871ae1dc0f",
   "metadata": {},
   "outputs": [],
   "source": [
    "#|export\n",
    "class MolFeaturizer:\n",
    "    \n",
    "    \"\"\"Creates a Fingerprinter to perform molecular featurization\n",
    "\n",
    "    Attributes\n",
    "    ----------\n",
    "    params\n",
    "        A dictionary of parameters for an rdkit generator.\n",
    "    descriptor_type\n",
    "        A string representing a descriptor available in ´rdFingerprintGenerator´\n",
    "        Available descriptors are morgan, atom_pairs, rdkit, rdkit2d, torsion and maccs\n",
    "    generator\n",
    "        A fingerprinter generator available in ´rdFingerprintGenerator´\n",
    "\n",
    "          \"\"\"\n",
    "              \n",
    "    def __init__(self, descriptor_type:str, params:dict={}):\n",
    "        \n",
    "        self.params = params\n",
    "        self.descriptor_type = descriptor_type\n",
    "        \n",
    "        self.DESCS = {'morgan': rdFingerprintGenerator.GetMorganGenerator,\n",
    "                      'atom_pairs':rdFingerprintGenerator.GetAtomPairGenerator,\n",
    "                      'rdkit':rdFingerprintGenerator.GetRDKitFPGenerator, \n",
    "                      'rdkit2d':self.get_rdkit2d_descriptors, \n",
    "                      'torsion':rdFingerprintGenerator.GetTopologicalTorsionGenerator,\n",
    "                      'maccs': MACCSkeys.GenMACCSKeys}\n",
    "        \n",
    "        self.RDKIT_PROPERTIES = ['BalabanJ', 'BertzCT', 'Chi0', 'Chi0n', 'Chi0v', 'Chi1', 'Chi1n',\n",
    "                         'Chi1v', 'Chi2n', 'Chi2v', 'Chi3n', 'Chi3v', 'Chi4n', 'Chi4v',\n",
    "                         'EState_VSA1', 'EState_VSA10', 'EState_VSA11', 'EState_VSA2',\n",
    "                         'EState_VSA3', 'EState_VSA4', 'EState_VSA5', 'EState_VSA6',\n",
    "                         'EState_VSA7', 'EState_VSA8', 'EState_VSA9', 'ExactMolWt',\n",
    "                         'FractionCSP3', 'HallKierAlpha', 'HeavyAtomCount',\n",
    "                         'Ipc', 'Kappa1', 'Kappa2', 'Kappa3', 'LabuteASA', 'MaxAbsEStateIndex',\n",
    "                         'MaxAbsPartialCharge', 'MaxEStateIndex', 'MaxPartialCharge',\n",
    "                         'MinAbsEStateIndex', 'MinAbsPartialCharge', 'MinEStateIndex',\n",
    "                         'MinPartialCharge', 'MolLogP', 'MolMR','NHOHCount',\n",
    "                         'NOCount', 'NumAliphaticCarbocycles', 'NumAliphaticHeterocycles',\n",
    "                         'NumAliphaticRings', 'NumAromaticCarbocycles', 'NumAromaticHeterocycles',\n",
    "                         'NumAromaticRings', 'NumHAcceptors', 'NumHDonors', 'NumHeteroatoms',\n",
    "                         'NumRadicalElectrons', 'NumRotatableBonds', 'NumSaturatedCarbocycles',\n",
    "                         'NumSaturatedHeterocycles', 'NumSaturatedRings', 'NumValenceElectrons',\n",
    "                         'PEOE_VSA1', 'PEOE_VSA10', 'PEOE_VSA11', 'PEOE_VSA12', 'PEOE_VSA13',\n",
    "                         'PEOE_VSA14', 'PEOE_VSA2', 'PEOE_VSA3', 'PEOE_VSA4', 'PEOE_VSA5',\n",
    "                         'PEOE_VSA6', 'PEOE_VSA7', 'PEOE_VSA8', 'PEOE_VSA9', 'RingCount',\n",
    "                         'SMR_VSA1', 'SMR_VSA10', 'SMR_VSA2', 'SMR_VSA3', 'SMR_VSA4', 'SMR_VSA5',\n",
    "                         'SMR_VSA6', 'SMR_VSA7', 'SMR_VSA8', 'SMR_VSA9', 'SlogP_VSA1', 'SlogP_VSA10',\n",
    "                         'SlogP_VSA11', 'SlogP_VSA12', 'SlogP_VSA2', 'SlogP_VSA3', 'SlogP_VSA4',\n",
    "                         'SlogP_VSA5', 'SlogP_VSA6', 'SlogP_VSA7', 'SlogP_VSA8', 'SlogP_VSA9',\n",
    "                         'TPSA', 'VSA_EState1', 'VSA_EState10', 'VSA_EState2', 'VSA_EState3',\n",
    "                         'VSA_EState4', 'VSA_EState5', 'VSA_EState6', 'VSA_EState7', 'VSA_EState8',\n",
    "                         'VSA_EState9']\n",
    "        \n",
    "        if descriptor_type in ['morgan','atom_pairs','rdkit','torsion']:\n",
    "            self.generator = self.set_params(self.DESCS[descriptor_type], params)\n",
    "        else:\n",
    "            self.generator = self.DESCS[descriptor_type]\n",
    "            \n",
    "    \n",
    "    def set_params(self, generator, params:dict):\n",
    "        \n",
    "        \"\"\"\n",
    "        Set parameters ´params´ for ´generator´\n",
    "        \n",
    "        \"\"\"\n",
    "\n",
    "        \n",
    "        try:\n",
    "            generator = generator(**params)\n",
    "            \n",
    "        except:\n",
    "            print(f'The parameters {params} are not valid for generator {self.DESCS[self.descriptor_type].__name__}.\\nSee RDKit: https://www.rdkit.org/docs/source/rdkit.Chem.rdFingerprintGenerator.html')\n",
    "            print('Returning the generator with default parameters.')\n",
    "            generator = generator()\n",
    "\n",
    "        return generator\n",
    "    \n",
    "    \n",
    "    def process_smiles(self, smi:str, use_counts:bool=False) -> np.array:\n",
    "        \n",
    "        \"\"\"\n",
    "        Generate features for one SMILES.\n",
    "        \n",
    "        Arguments\n",
    "        ---------\n",
    "        smi\n",
    "            A SMILES representing a molecular structure\n",
    "        use_counts\n",
    "            Whether to consider feature's counts for fingerprint generation.\n",
    "\n",
    "\n",
    "        \n",
    "        \"\"\"\n",
    "        mol = convert_smiles(smi,sanitize=True)\n",
    "        \n",
    "        if not mol:\n",
    "            return None\n",
    "        \n",
    "        if self.descriptor_type == 'maccs':\n",
    "            fps = np.array([])\n",
    "            ConvertToNumpyArray(self.generator(mol), fps)\n",
    "            return fps.reshape(1, -1)\n",
    "        \n",
    "        elif self.descriptor_type == 'rdkit2d':\n",
    "            return self.generator(mol)\n",
    "        \n",
    "        else:\n",
    "        \n",
    "            if use_counts:\n",
    "                fps =  self.generator.GetCountFingerprintAsNumPy(mol)\n",
    "                return fps.reshape(1, -1)\n",
    "\n",
    "            fps = self.generator.GetFingerprintAsNumPy(mol)\n",
    "            return fps.reshape(1, -1)\n",
    "    \n",
    "    def process_smiles_list(self, smiles_list : List[str], use_counts:bool=False) -> np.array:\n",
    "        \n",
    "        \"\"\"\n",
    "        Generate features for a list of SMILES.\n",
    "        \n",
    "        Arguments\n",
    "        ---------   \n",
    "        smiles_list\n",
    "            A list of SMILES.\n",
    "            \n",
    "        Returns\n",
    "        -------  \n",
    "        fps\n",
    "            A fingerprint array.\n",
    "                                    \n",
    "        \"\"\"\n",
    "        \n",
    "        func = partial(self.process_smiles, use_counts=use_counts)\n",
    "        fps = list(progress_bar(map(func, smiles_list), total=len(smiles_list)))\n",
    "        \n",
    "        if len(fps)>1:\n",
    "            return np.vstack(fps)\n",
    "        return fps[-1]\n",
    "     \n",
    "    \n",
    "    def get_rdkit2d_descriptors(self, mol:Chem.rdchem.Mol):\n",
    "\n",
    "        \"\"\"\n",
    "        Generates 200 RDKit constitutional descriptors for a `mol` object.\n",
    "\n",
    "        Arguments\n",
    "        ---------\n",
    "        mol : Chem.rdchem.Mol\n",
    "            A RDKit Mol object.\n",
    "\n",
    "        Returns\n",
    "        -------\n",
    "        descs : numpy.array\n",
    "            An array with the calculated descriptors.\n",
    "\n",
    "\n",
    "        \"\"\"\n",
    "        descriptor_dict = {name:func for name,func in Descriptors.descList if name in self.RDKIT_PROPERTIES}\n",
    "        descs = np.array([func(mol) for name,func in descriptor_dict.items()]).reshape(1, -1)\n",
    "        return descs"
   ]
  },
  {
   "cell_type": "code",
   "execution_count": 14,
   "id": "31384458-98e6-4299-87c1-ee0b1d09ff69",
   "metadata": {},
   "outputs": [
    {
     "data": {
      "text/markdown": [
       "---\n",
       "\n",
       "[source](https://github.com/marcossantanaioc/chemtools/blob/master/chemtools/tools/featurizer.py#L20){target=\"_blank\" style=\"float:right; font-size:smaller\"}\n",
       "\n",
       "### MolFeaturizer\n",
       "\n",
       ">      MolFeaturizer (descriptor_type:str, params:dict={})\n",
       "\n",
       "Creates a Fingerprinter to perform molecular featurization"
      ],
      "text/plain": [
       "---\n",
       "\n",
       "[source](https://github.com/marcossantanaioc/chemtools/blob/master/chemtools/tools/featurizer.py#L20){target=\"_blank\" style=\"float:right; font-size:smaller\"}\n",
       "\n",
       "### MolFeaturizer\n",
       "\n",
       ">      MolFeaturizer (descriptor_type:str, params:dict={})\n",
       "\n",
       "Creates a Fingerprinter to perform molecular featurization"
      ]
     },
     "execution_count": 14,
     "metadata": {},
     "output_type": "execute_result"
    }
   ],
   "source": [
    "show_doc(MolFeaturizer)"
   ]
  },
  {
   "cell_type": "code",
   "execution_count": 15,
   "id": "7446d12a-93b5-41eb-96c3-10854b5625f3",
   "metadata": {},
   "outputs": [
    {
     "data": {
      "text/markdown": [
       "---\n",
       "\n",
       "[source](https://github.com/marcossantanaioc/chemtools/blob/master/chemtools/tools/featurizer.py#L112){target=\"_blank\" style=\"float:right; font-size:smaller\"}\n",
       "\n",
       "### MolFeaturizer.process_smiles\n",
       "\n",
       ">      MolFeaturizer.process_smiles (smi:str, use_counts:bool=False)\n",
       "\n",
       "Generate features for one SMILES."
      ],
      "text/plain": [
       "---\n",
       "\n",
       "[source](https://github.com/marcossantanaioc/chemtools/blob/master/chemtools/tools/featurizer.py#L112){target=\"_blank\" style=\"float:right; font-size:smaller\"}\n",
       "\n",
       "### MolFeaturizer.process_smiles\n",
       "\n",
       ">      MolFeaturizer.process_smiles (smi:str, use_counts:bool=False)\n",
       "\n",
       "Generate features for one SMILES."
      ]
     },
     "execution_count": 15,
     "metadata": {},
     "output_type": "execute_result"
    }
   ],
   "source": [
    "show_doc(MolFeaturizer.process_smiles)"
   ]
  },
  {
   "cell_type": "code",
   "execution_count": 16,
   "id": "56313ea8-4803-44a2-957c-7a41a58963d7",
   "metadata": {},
   "outputs": [
    {
     "data": {
      "text/markdown": [
       "---\n",
       "\n",
       "[source](https://github.com/marcossantanaioc/chemtools/blob/master/chemtools/tools/featurizer.py#L150){target=\"_blank\" style=\"float:right; font-size:smaller\"}\n",
       "\n",
       "### MolFeaturizer.process_smiles_list\n",
       "\n",
       ">      MolFeaturizer.process_smiles_list (smiles_list:List[str],\n",
       ">                                         use_counts:bool=False)\n",
       "\n",
       "Generate features for a list of SMILES.\n",
       "\n",
       "|    | **Type** | **Default** | **Details** |\n",
       "| -- | -------- | ----------- | ----------- |\n",
       "| smiles_list | typing.List[str] |  |  |\n",
       "| use_counts | bool | False |  |\n",
       "| **Returns** | **array** |  | **A fingerprint array.** |"
      ],
      "text/plain": [
       "---\n",
       "\n",
       "[source](https://github.com/marcossantanaioc/chemtools/blob/master/chemtools/tools/featurizer.py#L150){target=\"_blank\" style=\"float:right; font-size:smaller\"}\n",
       "\n",
       "### MolFeaturizer.process_smiles_list\n",
       "\n",
       ">      MolFeaturizer.process_smiles_list (smiles_list:List[str],\n",
       ">                                         use_counts:bool=False)\n",
       "\n",
       "Generate features for a list of SMILES.\n",
       "\n",
       "|    | **Type** | **Default** | **Details** |\n",
       "| -- | -------- | ----------- | ----------- |\n",
       "| smiles_list | typing.List[str] |  |  |\n",
       "| use_counts | bool | False |  |\n",
       "| **Returns** | **array** |  | **A fingerprint array.** |"
      ]
     },
     "execution_count": 16,
     "metadata": {},
     "output_type": "execute_result"
    }
   ],
   "source": [
    "show_doc(MolFeaturizer.process_smiles_list)"
   ]
  },
  {
   "cell_type": "code",
   "execution_count": 18,
   "id": "0c25254e-2367-4c77-9cf6-ed5468e91d39",
   "metadata": {},
   "outputs": [],
   "source": [
    "\n",
    "nbdev_export('featurizer.ipynb')"
   ]
  },
  {
   "cell_type": "code",
   "execution_count": null,
   "id": "2f9612ad-d7bd-428b-acd2-c7a39ee47c28",
   "metadata": {},
   "outputs": [],
   "source": []
  }
 ],
 "metadata": {
  "kernelspec": {
   "display_name": "cheminformatics",
   "language": "python",
   "name": "cheminformatics"
  },
  "language_info": {
   "codemirror_mode": {
    "name": "ipython",
    "version": 3
   },
   "file_extension": ".py",
   "mimetype": "text/x-python",
   "name": "python",
   "nbconvert_exporter": "python",
   "pygments_lexer": "ipython3",
   "version": "3.9.12"
  }
 },
 "nbformat": 4,
 "nbformat_minor": 5
}
