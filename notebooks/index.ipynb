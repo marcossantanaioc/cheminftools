{
 "cells": [
  {
   "cell_type": "markdown",
   "metadata": {},
   "source": [
    "# chemtools\n",
    "\n",
    "> A collection of tools to perform cheminformatics tasks."
   ]
  },
  {
   "cell_type": "markdown",
   "metadata": {},
   "source": [
    "## How to use"
   ]
  },
  {
   "cell_type": "markdown",
   "metadata": {},
   "source": [
    "Chemtools offer a collection of cheminformatics scripts for daily tasks. Currently supported tasks include:\n",
    "\n",
    "    1 - Standardization of chemical structures\n",
    "\n",
    "    2 - Calculation of molecular descriptors\n",
    "    \n",
    "    3 - Filtering datasets using predefined alerts (e.g. PAINS, Dundee, Glaxo)"
   ]
  },
  {
   "cell_type": "markdown",
   "metadata": {},
   "source": [
    "# Standardization\n",
    "\n",
    "A dataset of molecules can be standardize in just 1 line of code!"
   ]
  },
  {
   "cell_type": "code",
   "execution_count": null,
   "metadata": {},
   "outputs": [],
   "source": [
    "#|hide\n",
    "import pandas as pd\n",
    "import numpy as np\n",
    "from chemtools.tools.sanitizer import MolCleaner\n",
    "from chemtools.tools.featurizer import MolFeaturizer\n",
    "from chemtools.tools.filtering import MolFiltering\n",
    "from rdkit import Chem"
   ]
  },
  {
   "cell_type": "code",
   "execution_count": null,
   "metadata": {},
   "outputs": [],
   "source": [
    "data = pd.read_csv('../data/Lipophilicity.csv')"
   ]
  },
  {
   "cell_type": "markdown",
   "metadata": {},
   "source": [
    "# Sanitizing\n",
    "\n",
    "The [`MolCleaner`]('sanitizer.ipynb') class performs sanitization tasks following the steps implemented on [chembl_structure_pipeline](https://github.com/chembl/ChEMBL_Structure_Pipeline)\n",
    "        \n",
    "        1. Standardize unknown stereochemistry (Handled by the RDKit Mol file parser)\n",
    "            i) Fix wiggly bonds on sp3 carbons - sets atoms and bonds marked as unknown stereo to no stereo\n",
    "            ii) Fix wiggly bonds on double bonds – set double bond to crossed bond\n",
    "        2. Clears S Group data from the mol file\n",
    "        3. Kekulize the structure\n",
    "        4. Remove H atoms (See the page on explicit Hs for more details)\n",
    "        5. Normalization:\n",
    "            Fix hypervalent nitro groups\n",
    "            Fix KO to K+ O- and NaO to Na+ O- (Also add Li+ to this)\n",
    "            Correct amides with N=COH\n",
    "            Standardise sulphoxides to charge separated form\n",
    "            Standardize diazonium N (atom :2 here: [*:1]-[N;X2:2]#[N;X1:3]>>[*:1]) to N+\n",
    "            Ensure quaternary N is charged\n",
    "            Ensure trivalent O ([*:1]=[O;X2;v3;+0:2]-[#6:3]) is charged\n",
    "            Ensure trivalent S ([O:1]=[S;D2;+0:2]-[#6:3]) is charged\n",
    "            Ensure halogen with no neighbors ([F,Cl,Br,I;X0;+0:1]) is charged\n",
    "        6. The molecule is neutralized, if possible. See the page on neutralization rules for more details.\n",
    "        7. Remove stereo from tartrate to simplify salt matching\n",
    "        8. Normalise (straighten) triple bonds and allenes\n",
    "        \n",
    "        \n",
    "        \n",
    "        The curation steps in ChEMBL structure pipeline were augmented with additional steps to identify duplicated entries\n",
    "        9. Find stereo centers\n",
    "        10. Generate inchi keys\n",
    "        11. Find duplicated SMILES. If the same SMILES is present multiple times, two outcomes are possible.\n",
    "            i. The same compound (e.g. same ID and same SMILES)\n",
    "            ii. Isomers with different SMILES, IDs and/or activities\n",
    "            \n",
    "            In case i), the compounds are merged by taking the median values of all numeric columns in the dataframe. \n",
    "            For case ii), the compounds are further classified as 'to merge' or 'to keep' depending on the activity values.\n",
    "                a) Compounds are considered for mergining (to merge) if the difference in acvitities is less than 1log unit.\n",
    "                b) Compounds are considered for keeping as individual entries (to keep) if the difference in activities is larger than 1log unit. In this case, the user can\n",
    "                select which compound to keep - the one with highest or lowest activity."
   ]
  },
  {
   "cell_type": "code",
   "execution_count": null,
   "metadata": {},
   "outputs": [
    {
     "name": "stderr",
     "output_type": "stream",
     "text": [
      "100%|██████████| 1000/1000 [00:03<00:00, 265.25it/s]\n"
     ]
    }
   ],
   "source": [
    "processed_data = MolCleaner.from_df(data, smiles_col='smiles', act_col='exp', id_col='CMPD_CHEMBLID')"
   ]
  },
  {
   "cell_type": "markdown",
   "metadata": {},
   "source": [
    "# Filtering\n",
    "\n",
    "The [`MolFiltering`]('filtering.ipynb') class is responsible for removing compounds that match defined substructural alerts, including PAINS and rules defined by different organizations, such as GSK and University of Dundee. "
   ]
  },
  {
   "cell_type": "code",
   "execution_count": null,
   "metadata": {},
   "outputs": [
    {
     "name": "stderr",
     "output_type": "stream",
     "text": [
      "100%|██████████| 1000/1000 [00:19<00:00, 52.32it/s]\n"
     ]
    },
    {
     "name": "stdout",
     "output_type": "stream",
     "text": [
      "Total number of flagged molecules = 17\n",
      "Most common flag = I13 Cyanamides\n"
     ]
    }
   ],
   "source": [
    "clean_dataset, alerts_dataset = MolFiltering.from_df(processed_data, smiles_col='processed_smiles')"
   ]
  },
  {
   "cell_type": "code",
   "execution_count": null,
   "metadata": {},
   "outputs": [
    {
     "data": {
      "text/plain": [
       "processed_smiles\n",
       "Nc1nc(OC2CCCC2)nc2c1ncn2[C@@H]1O[C@H](CO)[C@H](Cl)[C@H]1O                         Glaxo\n",
       "CS(=O)(=O)c1ccc(N2CCN(C(=O)[C@@H]3CCCC[C@H]3C(=O)NCC#N)CC2)cc1                    Glaxo\n",
       "Cn1cc(-c2cccc(C[C@H](NC(=O)c3cc(C(C)(C)C)nn3C)C(=O)NCC#N)c2)cn1                   Glaxo\n",
       "CC(C)c1ccccc1Cc1cc(C(=O)Nc2ccc(S(=O)(=O)c3ccccc3C(C)(C)C)cc2)c(O)c(O)c1O          Glaxo\n",
       "Cc1cccc(C[C@H](NC(=O)c2cc(C(C)(C)C)nn2C)C(=O)NCC#N)c1                             Glaxo\n",
       "C[C@H]1O[C@@H](n2cnc3c(N)nc(OCC4CC45CC5)nc32)[C@H](O)[C@H]1Cl                     Glaxo\n",
       "CC(=O)c1ncccc1NC(=O)[C@H]1CC[C@H](N2C(=O)[C@H]3[C@H]4CC[C@H](C4)[C@H]3C2=O)CC1    Glaxo\n",
       "C[S+]([O-])CCN1C(=O)C(NC(=O)c2cc3cc(Cl)sc3[nH]2)Cc2ccccc21                        Glaxo\n",
       "C=CCCCCCCCCC(=O)N[C@H]1CCC(=O)NC1=O                                               Glaxo\n",
       "C=CCCCCCCCCC(=O)N[C@H]1CCC(=O)NC1=O                                               Glaxo\n",
       "O=c1c(O)cccc2cc(O)c(O)c(O)c12                                                     Glaxo\n",
       "CCCN1CCN(c2ccc(C(=O)NC3(C(=O)NCC#N)CCCCC3)cc2)CC1                                 Glaxo\n",
       "CN(C)CC(O)COc1ccc(Nc2cc(N(CC#N)c3cc(Cl)ccc3Cl)ncn2)cc1                            Glaxo\n",
       "N#CCNC(=O)[C@@H]1CCCC[C@H]1C(=O)N1CCc2[nH]c3ccc(F)cc3c2C1                         Glaxo\n",
       "O=C1C=CC(=O)c2c(O)ccc(O)c21                                                       Glaxo\n",
       "CN1C2CC(OC(=O)C(CO)c3ccccc3)CC1C1OC12                                             Glaxo\n",
       "N#CCNC(=O)[C@@H]1CCCC[C@H]1C(=O)N1CCN(c2ccc(C#N)cc2)CC1                           Glaxo\n",
       "N#CCNC(=O)[C@@H]1CCCC[C@H]1C(=O)N1CCCCC1                                          Glaxo\n",
       "Name: Alert_rule_set, dtype: object"
      ]
     },
     "execution_count": null,
     "metadata": {},
     "output_type": "execute_result"
    }
   ],
   "source": [
    "alerts_dataset.set_index('processed_smiles')['Alert_rule_set']"
   ]
  },
  {
   "cell_type": "markdown",
   "metadata": {},
   "source": [
    "#### Quinone"
   ]
  },
  {
   "cell_type": "code",
   "execution_count": null,
   "metadata": {},
   "outputs": [
    {
     "data": {
      "image/png": "[encoded data removed]",
      "text/plain": [
       "<rdkit.Chem.rdchem.Mol>"
      ]
     },
     "execution_count": null,
     "metadata": {},
     "output_type": "execute_result"
    }
   ],
   "source": [
    "mol = Chem.MolFromSmiles('COC1/C=C\\OC2(C)Oc3c(C)c(O)c4c(c3C2=O)C(=O)C=C(NC(=O)/C(C)=C\\C=C/C(C)C(O)C(C)C(O)C(C)C(OC(C)=O)C1C)C4=O')\n",
    "mol.GetSubstructMatches(Chem.MolFromSmarts('O=C1[#6]~[#6]C(=O)[#6]~[#6]1'))\n",
    "mol"
   ]
  },
  {
   "cell_type": "markdown",
   "metadata": {},
   "source": [
    "#### Cynamide"
   ]
  },
  {
   "cell_type": "code",
   "execution_count": null,
   "metadata": {},
   "outputs": [
    {
     "data": {
      "image/png": "[encoded data removed]",
      "text/plain": [
       "<rdkit.Chem.rdchem.Mol>"
      ]
     },
     "execution_count": null,
     "metadata": {},
     "output_type": "execute_result"
    }
   ],
   "source": [
    "\n",
    "mol1 = Chem.MolFromSmiles('Cc1cccc(C[C@H](NC(=O)c2cc(C(C)(C)C)nn2C)C(=O)NCC#N)c1')\n",
    "mol1.GetSubstructMatches(Chem.MolFromSmarts('N[CH2]C#N'))\n",
    "mol1"
   ]
  },
  {
   "cell_type": "markdown",
   "metadata": {},
   "source": [
    "#### R18 Quaternary C, Cl, I, P or S"
   ]
  },
  {
   "cell_type": "code",
   "execution_count": null,
   "metadata": {},
   "outputs": [
    {
     "data": {
      "image/png": "[encoded data removed]",
      "text/plain": [
       "<rdkit.Chem.rdchem.Mol>"
      ]
     },
     "execution_count": null,
     "metadata": {},
     "output_type": "execute_result"
    }
   ],
   "source": [
    "\n",
    "mol = Chem.MolFromSmiles('CC[C@H](NC(=O)c1c([S+](C)[O-])c(-c2ccccc2)nc2ccccc12)c1ccccc1')\n",
    "mol.GetSubstructMatches(Chem.MolFromSmarts('[C+,Cl+,I+,P+,S+]'))\n",
    "mol"
   ]
  },
  {
   "cell_type": "markdown",
   "metadata": {},
   "source": [
    "# Featurization\n",
    "\n",
    "The [`MolFeaturizer`]('featurizer.ipynb') class converts SMILES into molecular descriptors. The current version supports Morgan fingerprints, Atom Pairs, Torsion Fingerprints, RDKit fingerprints and 200 constitutional descriptors, and MACCS keys."
   ]
  },
  {
   "cell_type": "code",
   "execution_count": null,
   "metadata": {},
   "outputs": [],
   "source": [
    "fingerprinter = MolFeaturizer('morgan')"
   ]
  },
  {
   "cell_type": "code",
   "execution_count": null,
   "metadata": {},
   "outputs": [],
   "source": [
    "X = fingerprinter.process_smiles_list(clean_dataset['processed_smiles'].values)"
   ]
  },
  {
   "cell_type": "code",
   "execution_count": null,
   "metadata": {},
   "outputs": [],
   "source": [
    "X[0:5]"
   ]
  },
  {
   "cell_type": "code",
   "execution_count": null,
   "metadata": {},
   "outputs": [],
   "source": []
  }
 ],
 "metadata": {
  "kernelspec": {
   "display_name": "cheminformatics",
   "language": "python",
   "name": "cheminformatics"
  },
  "language_info": {
   "codemirror_mode": {
    "name": "ipython",
    "version": 3
   },
   "file_extension": ".py",
   "mimetype": "text/x-python",
   "name": "python",
   "nbconvert_exporter": "python",
   "pygments_lexer": "ipython3",
   "version": "3.9.12"
  }
 },
 "nbformat": 4,
 "nbformat_minor": 4
}
